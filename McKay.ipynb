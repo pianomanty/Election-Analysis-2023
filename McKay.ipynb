{
 "cells": [
  {
   "cell_type": "code",
   "execution_count": 12,
   "metadata": {},
   "outputs": [
    {
     "data": {
      "text/plain": [
       "'\\nTO DO\\nSeparate the address columns\\nStreet Address, City, ZIP\\n'"
      ]
     },
     "execution_count": 12,
     "metadata": {},
     "output_type": "execute_result"
    }
   ],
   "source": [
    "import pandas as pd\n",
    "import numpy as np\n",
    "import statsmodels.api as sm\n",
    "from matplotlib import pyplot as plt\n",
    "fnames = ['PrimaryVoters.xlsx','Voter Data.xlsx']\n",
    "\n",
    "import geopandas as gpd\n",
    "from shapely.geometry import Point, Polygon\n",
    "from matplotlib.colors import LogNorm\n",
    "from matplotlib.cm import ScalarMappable\n",
    "import matplotlib.animation as animation\n",
    "\"\"\"\n",
    "TO DO\n",
    "Separate the address columns\n",
    "Street Address, City, ZIP\n",
    "\"\"\""
   ]
  },
  {
   "cell_type": "markdown",
   "metadata": {},
   "source": [
    "Read in Geopandas Data"
   ]
  },
  {
   "cell_type": "code",
   "execution_count": 13,
   "metadata": {},
   "outputs": [],
   "source": [
    "geo_data = gpd.read_file('Utah_Vista_Ballot_Areas.geojson')\n",
    "geo_data_copy = geo_data.copy()\n",
    "geo_data = geo_data[geo_data['AliasName'] == 'Provo']\n",
    "geo_data = geo_data.loc[:,['PrecinctID','SHAPE_Area','geometry']]"
   ]
  },
  {
   "cell_type": "markdown",
   "metadata": {},
   "source": [
    "Examine Geo Data"
   ]
  },
  {
   "cell_type": "code",
   "execution_count": 14,
   "metadata": {},
   "outputs": [
    {
     "name": "stdout",
     "output_type": "stream",
     "text": [
      "['OBJECTID', 'CountyID', 'VistaID', 'PrecinctID', 'SubPrecinctID', 'VersionNbr', 'EffectiveDate', 'AliasName', 'Comments', 'RcvdDate', 'GlobalID', 'SHAPE_Length', 'SHAPE_Area', 'geometry']\n"
     ]
    }
   ],
   "source": [
    "print(list(geo_data_copy.columns))\n",
    "geo_data.rename(columns={'PrecinctID':'PRECINCT','SHAPE_Area':'AREA'},inplace=True)\n",
    "# geo_data"
   ]
  },
  {
   "cell_type": "markdown",
   "metadata": {},
   "source": [
    "Primary and General Voter Data read in"
   ]
  },
  {
   "cell_type": "code",
   "execution_count": 15,
   "metadata": {},
   "outputs": [],
   "source": [
    "primary = pd.read_excel(fnames[0])\n",
    "mask = primary['CITY'] == 'Provo'\n",
    "primary_copy = primary.copy()\n",
    "primary_copy = primary.copy()\n",
    "primary_addresses = primary.copy()\n",
    "\n",
    "#Read in general voting data, rename columns to match style of primary voting dataframe\n",
    "general = pd.read_excel(fnames[1])\n",
    "general.rename(columns={'Voter ID':'VOTER_ID','Precinct':'PRECINCT'},inplace=True)\n",
    "general_addresses = general.copy()\n",
    "general_copy = general.copy()"
   ]
  },
  {
   "cell_type": "markdown",
   "metadata": {},
   "source": [
    "Primary and General Voter Data Formatting"
   ]
  },
  {
   "cell_type": "code",
   "execution_count": 16,
   "metadata": {},
   "outputs": [],
   "source": [
    "# Read in only primary data for the city of Provo, keep only the Provo primary votes\n",
    "primary = primary_copy.copy()\n",
    "mask = primary['CITY'] == 'Provo'\n",
    "primary = primary[mask]\n",
    "primary = primary[['VOTER_ID','VOTED','PRECINCT']]\n",
    "\n",
    "#Change VOTED column to 1s everywhere\n",
    "primary['VOTED'] = 1\n",
    "\n",
    "#Read in general voting data, rename columns to match style of primary voting dataframe\n",
    "general = general_copy.copy()\n",
    "\n",
    "#Get just voter ID, precinct, and election voting data\n",
    "general2 = general[['VOTER_ID','PRECINCT']]\n",
    "how_voted = general.filter(like='How Voted')\n",
    "\n",
    "#Change \"How Voted\" to just 1's and 0's to indicate not voting or voting in given election\n",
    "def fill_with_numbers(x):\n",
    "    if pd.isna(x):\n",
    "        return 0\n",
    "    else:\n",
    "        return 1\n",
    "how_voted = how_voted.applymap(fill_with_numbers)\n",
    "general2 = pd.concat([general2,how_voted],axis=1)\n",
    "\n",
    "#Merge the dataframes, rename the primary voted column like all other voted columns\n",
    "merged = pd.merge(general2,primary,on = 'VOTER_ID',how = 'outer')\n",
    "merged.rename(columns={'VOTED':'How Voted.44'},inplace=True)\n",
    "merged.fillna(0,inplace=True)\n",
    "\n",
    "#Combine the precinct columns\n",
    "merged['PRECINCT'] = np.where(merged['PRECINCT_x'] == 0, merged['PRECINCT_y'], merged['PRECINCT_x'])\n",
    "merged.drop(columns=['PRECINCT_y','PRECINCT_x'],inplace=True)\n",
    "\n"
   ]
  },
  {
   "cell_type": "markdown",
   "metadata": {},
   "source": [
    "Construct Separate Address DataFrames"
   ]
  },
  {
   "cell_type": "code",
   "execution_count": 17,
   "metadata": {},
   "outputs": [
    {
     "data": {
      "text/html": [
       "<div>\n",
       "<style scoped>\n",
       "    .dataframe tbody tr th:only-of-type {\n",
       "        vertical-align: middle;\n",
       "    }\n",
       "\n",
       "    .dataframe tbody tr th {\n",
       "        vertical-align: top;\n",
       "    }\n",
       "\n",
       "    .dataframe thead th {\n",
       "        text-align: right;\n",
       "    }\n",
       "</style>\n",
       "<table border=\"1\" class=\"dataframe\">\n",
       "  <thead>\n",
       "    <tr style=\"text-align: right;\">\n",
       "      <th></th>\n",
       "      <th>VOTER_ID</th>\n",
       "      <th>PRECINCT</th>\n",
       "      <th>Full Name</th>\n",
       "      <th>Street Address</th>\n",
       "      <th>City</th>\n",
       "      <th>State</th>\n",
       "      <th>Zip</th>\n",
       "      <th>Mailing Address</th>\n",
       "      <th>Mailing City, State, Zip</th>\n",
       "    </tr>\n",
       "  </thead>\n",
       "  <tbody>\n",
       "    <tr>\n",
       "      <th>0</th>\n",
       "      <td>6208866</td>\n",
       "      <td>PR302</td>\n",
       "      <td>Sharron Collier</td>\n",
       "      <td>77 W 4800 N  Unit A241</td>\n",
       "      <td>Provo</td>\n",
       "      <td>UT</td>\n",
       "      <td>84604-5788</td>\n",
       "      <td></td>\n",
       "      <td></td>\n",
       "    </tr>\n",
       "    <tr>\n",
       "      <th>1</th>\n",
       "      <td>6468144</td>\n",
       "      <td>PR308</td>\n",
       "      <td>Nancy Macfarlane</td>\n",
       "      <td>4146 N University  Ave Apt 1203</td>\n",
       "      <td>Provo</td>\n",
       "      <td>UT</td>\n",
       "      <td>84604-4960</td>\n",
       "      <td></td>\n",
       "      <td></td>\n",
       "    </tr>\n",
       "    <tr>\n",
       "      <th>2</th>\n",
       "      <td>6282452</td>\n",
       "      <td>PR310</td>\n",
       "      <td>Dixie Clifford</td>\n",
       "      <td>3352 N 100 E  Apt 303</td>\n",
       "      <td>Provo</td>\n",
       "      <td>UT</td>\n",
       "      <td>84604-6662</td>\n",
       "      <td></td>\n",
       "      <td></td>\n",
       "    </tr>\n",
       "    <tr>\n",
       "      <th>3</th>\n",
       "      <td>6370297</td>\n",
       "      <td>PR310</td>\n",
       "      <td>Horace Young</td>\n",
       "      <td>3352 N 100 E  Apt 231</td>\n",
       "      <td>Provo</td>\n",
       "      <td>UT</td>\n",
       "      <td>84604-6606</td>\n",
       "      <td></td>\n",
       "      <td></td>\n",
       "    </tr>\n",
       "    <tr>\n",
       "      <th>4</th>\n",
       "      <td>6205806</td>\n",
       "      <td>PR313</td>\n",
       "      <td>Kim Jackson</td>\n",
       "      <td>3024 N Comanche  Ln</td>\n",
       "      <td>Provo</td>\n",
       "      <td>UT</td>\n",
       "      <td>84604-4344</td>\n",
       "      <td></td>\n",
       "      <td></td>\n",
       "    </tr>\n",
       "    <tr>\n",
       "      <th>...</th>\n",
       "      <td>...</td>\n",
       "      <td>...</td>\n",
       "      <td>...</td>\n",
       "      <td>...</td>\n",
       "      <td>...</td>\n",
       "      <td>...</td>\n",
       "      <td>...</td>\n",
       "      <td>...</td>\n",
       "      <td>...</td>\n",
       "    </tr>\n",
       "    <tr>\n",
       "      <th>37669</th>\n",
       "      <td>2131347</td>\n",
       "      <td>PR360</td>\n",
       "      <td>Amber Hawkins</td>\n",
       "      <td>822 S Aspen Way</td>\n",
       "      <td>Provo</td>\n",
       "      <td>UT</td>\n",
       "      <td>84606</td>\n",
       "      <td></td>\n",
       "      <td></td>\n",
       "    </tr>\n",
       "    <tr>\n",
       "      <th>37670</th>\n",
       "      <td>2696863</td>\n",
       "      <td>PR362</td>\n",
       "      <td>Rita Miyarez</td>\n",
       "      <td>1717 E 1400 S</td>\n",
       "      <td>Provo</td>\n",
       "      <td>UT</td>\n",
       "      <td>84606</td>\n",
       "      <td></td>\n",
       "      <td></td>\n",
       "    </tr>\n",
       "    <tr>\n",
       "      <th>37671</th>\n",
       "      <td>2497293</td>\n",
       "      <td>PR363</td>\n",
       "      <td>Anna Jesperson</td>\n",
       "      <td>1237 S 1410 E</td>\n",
       "      <td>Provo</td>\n",
       "      <td>UT</td>\n",
       "      <td>84606</td>\n",
       "      <td></td>\n",
       "      <td></td>\n",
       "    </tr>\n",
       "    <tr>\n",
       "      <th>37672</th>\n",
       "      <td>1460372</td>\n",
       "      <td>PR363</td>\n",
       "      <td>Elizabeth Thomas</td>\n",
       "      <td>2345 Tennessee Ave</td>\n",
       "      <td>Provo</td>\n",
       "      <td>UT</td>\n",
       "      <td>84606</td>\n",
       "      <td></td>\n",
       "      <td></td>\n",
       "    </tr>\n",
       "    <tr>\n",
       "      <th>37673</th>\n",
       "      <td>2697249</td>\n",
       "      <td>PR366</td>\n",
       "      <td>Julieta Flores</td>\n",
       "      <td>867 S 900 W</td>\n",
       "      <td>Provo</td>\n",
       "      <td>UT</td>\n",
       "      <td>84601</td>\n",
       "      <td></td>\n",
       "      <td></td>\n",
       "    </tr>\n",
       "  </tbody>\n",
       "</table>\n",
       "<p>37674 rows × 9 columns</p>\n",
       "</div>"
      ],
      "text/plain": [
       "       VOTER_ID PRECINCT         Full Name                   Street Address  \\\n",
       "0       6208866    PR302   Sharron Collier           77 W 4800 N  Unit A241   \n",
       "1       6468144    PR308  Nancy Macfarlane  4146 N University  Ave Apt 1203   \n",
       "2       6282452    PR310    Dixie Clifford            3352 N 100 E  Apt 303   \n",
       "3       6370297    PR310      Horace Young            3352 N 100 E  Apt 231   \n",
       "4       6205806    PR313       Kim Jackson            3024 N Comanche  Ln     \n",
       "...         ...      ...               ...                              ...   \n",
       "37669   2131347    PR360     Amber Hawkins                  822 S Aspen Way   \n",
       "37670   2696863    PR362      Rita Miyarez                    1717 E 1400 S   \n",
       "37671   2497293    PR363    Anna Jesperson                    1237 S 1410 E   \n",
       "37672   1460372    PR363  Elizabeth Thomas               2345 Tennessee Ave   \n",
       "37673   2697249    PR366    Julieta Flores                      867 S 900 W   \n",
       "\n",
       "        City State         Zip Mailing Address Mailing City, State, Zip  \n",
       "0      Provo    UT  84604-5788                                           \n",
       "1      Provo    UT  84604-4960                                           \n",
       "2      Provo    UT  84604-6662                                           \n",
       "3      Provo    UT  84604-6606                                           \n",
       "4      Provo    UT  84604-4344                                           \n",
       "...      ...   ...         ...             ...                      ...  \n",
       "37669  Provo    UT       84606                                           \n",
       "37670  Provo    UT       84606                                           \n",
       "37671  Provo    UT       84606                                           \n",
       "37672  Provo    UT       84606                                           \n",
       "37673  Provo    UT       84601                                           \n",
       "\n",
       "[37674 rows x 9 columns]"
      ]
     },
     "execution_count": 17,
     "metadata": {},
     "output_type": "execute_result"
    }
   ],
   "source": [
    "primary_addresses = primary_copy.copy()\n",
    "mask = primary_addresses['CITY'] == 'Provo'\n",
    "primary_addresses = primary_addresses[mask]\n",
    "general_addresses = general_copy.copy()\n",
    "\n",
    "#Fill NaN, rename columns to match\n",
    "primary_addresses.fillna('',inplace=True)\n",
    "general_addresses.fillna('',inplace=True)\n",
    "general_addresses.rename(columns={'Voter ID':'VOTER_ID','Precinct':'PRECINCT'},inplace=True)\n",
    "\n",
    "#Rename street address, city, zip columns of primary_addresses\n",
    "primary_addresses.rename(columns={'RESIDENCE_ADDRESS':'Street Address','CITY':'City','ZIP':'Zip'},inplace=True)\n",
    "primary_addresses['Zip'] = primary_addresses['Zip'].astype(str)\n",
    "\n",
    "#Get street address, city, zip columns of general_addresses\n",
    "general_addresses[\"Street Address\"] = general_addresses['House Number'].astype(str) + ' ' + general_addresses['Direction Prefix'].astype(str) + \\\n",
    "                                        ' ' + general_addresses['Street'].astype(str) + ' ' + general_addresses['Direction Suffix'].astype(str) +\\\n",
    "                                        ' ' + general_addresses['Street Type'].astype(str) + ' ' + general_addresses['Unit Type'].astype(str) + ' ' + general_addresses['Unit Number'].astype(str)\n",
    "general_addresses['Zip'] = general_addresses['Zip'].astype(str)\n",
    "general_addresses.rename(columns={'Mailing city, state  zip':'Mailing City, State, Zip'},inplace=True)\n",
    "\n",
    "primary_addresses['Full Name'] = primary_addresses['FIRST'] + ' ' + primary_addresses['NAME']\n",
    "general_addresses['Full Name'] = general_addresses['First Name'] + ' ' + general_addresses['Last Name']\n",
    "# general_addresses['Mailing Address'] = general_addresses['Mailing Address'] + ' ' + general_addresses['Mailing city, state  zip']\n",
    "\n",
    "#Make full address,mailing address, and full name columns for each dataframe\n",
    "# primary_addresses[\"Full Address\"] = primary_addresses['RESIDENCE_ADDRESS'] + ' ' + primary_addresses['CITY'] + ' ' + primary_addresses['ZIP'].astype(str)\n",
    "# general_addresses[\"Full Address\"] = general_addresses['House Number'].astype(str) + ' ' + general_addresses['Direction Prefix'].astype(str) + ' ' + general_addresses['Street'].astype(str) + ' ' + general_addresses['Direction Suffix'].astype(str) \\\n",
    "#                                     + ' ' + general_addresses['Street Type'].astype(str) + ' ' + general_addresses['Unit Type'].astype(str) + ' ' + general_addresses['Unit Number'].astype(str) + ' ' + general_addresses['City'].astype(str) + ' ' + \\\n",
    "#                                     general_addresses['Zip'].astype(str)\n",
    "# primary_addresses['Full Name'] = primary_addresses['FIRST'] + ' ' + primary_addresses['NAME']\n",
    "# general_addresses['Full Name'] = general_addresses['First Name'] + ' ' + general_addresses['Last Name']\n",
    "# general_addresses['Mailing Address'] = general_addresses['Mailing Address'] + ' ' + general_addresses['Mailing city, state  zip']\n",
    "\n",
    "#Only keep the voterID, precinct, address info, and name\n",
    "primary_addresses = primary_addresses.loc[:,['VOTER_ID','PRECINCT','Full Name','Street Address','City','Zip']]\n",
    "general_addresses = general_addresses.loc[:,['VOTER_ID','PRECINCT','Full Name','Street Address','City','Zip','Mailing Address','Mailing City, State, Zip']]\n",
    "\n",
    "#Join them together\n",
    "merged_addresses = pd.merge(general_addresses,primary_addresses,on = 'VOTER_ID',how = 'outer')\n",
    "merged_addresses.fillna(0,inplace=True)\n",
    "merged_addresses['Mailing Address'].mask(merged_addresses['Mailing Address']==0,'',inplace= True)\n",
    "merged_addresses['Mailing City, State, Zip'].mask(merged_addresses['Mailing City, State, Zip']==0,'',inplace= True)\n",
    "\n",
    "#Combine the precinct columns\n",
    "merged_addresses['PRECINCT'] = np.where(merged_addresses['PRECINCT_x'] == 0, merged_addresses['PRECINCT_y'], merged_addresses['PRECINCT_x'])\n",
    "merged_addresses.drop(columns=['PRECINCT_y','PRECINCT_x'],inplace=True)\n",
    "\n",
    "#Combine the Name Columns\n",
    "merged_addresses['Full Name'] = np.where(merged_addresses['Full Name_x'] == 0, merged_addresses['Full Name_y'], merged_addresses['Full Name_x'])\n",
    "merged_addresses.drop(columns=['Full Name_y','Full Name_x'],inplace=True)\n",
    "\n",
    "#Combine the Address,City,ZIP Columns\n",
    "merged_addresses['Street Address'] = np.where(merged_addresses['Street Address_x'] == 0, merged_addresses['Street Address_y'], merged_addresses['Street Address_x'])\n",
    "merged_addresses.drop(columns=['Street Address_y','Street Address_x'],inplace=True)\n",
    "merged_addresses['Zip'] = np.where(merged_addresses['Zip_x'] == 0, merged_addresses['Zip_y'], merged_addresses['Zip_x'])\n",
    "merged_addresses.drop(columns=['Zip_y','Zip_x'],inplace=True)\n",
    "merged_addresses['City'] = 'Provo'\n",
    "merged_addresses.drop(columns=['City_y','City_x'],inplace=True)\n",
    "merged_addresses['State'] = 'UT'\n",
    "merged_addresses = merged_addresses.loc[:,['VOTER_ID','PRECINCT','Full Name','Street Address','City','State','Zip','Mailing Address','Mailing City, State, Zip']]\n",
    "merged_addresses"
   ]
  },
  {
   "cell_type": "markdown",
   "metadata": {},
   "source": [
    "Make pivot tables with no weighting, just ranking the total number of votes counted in each precinct"
   ]
  },
  {
   "cell_type": "code",
   "execution_count": 18,
   "metadata": {},
   "outputs": [],
   "source": [
    "merged[\"How Voted Sum\"] = merged.loc[:,'How Voted':'How Voted.44'].sum(axis=1)\n",
    "table2 = merged.pivot_table(values = 'How Voted Sum',index = ['PRECINCT'], aggfunc='sum')\n",
    "table2 = table2.reindex(table2.sort_values(by='How Voted Sum', ascending=False).index)"
   ]
  },
  {
   "cell_type": "markdown",
   "metadata": {},
   "source": [
    "Do Least Squares to weight the votes"
   ]
  },
  {
   "cell_type": "code",
   "execution_count": 19,
   "metadata": {},
   "outputs": [],
   "source": [
    "#Use all the voting data + primary as the independent vars, the most recent election (how voted 43) as the dependent var to find weights\n",
    "predictive_voting_data = merged.loc[:,'How Voted':'How Voted.44'].drop(columns=['How Voted.43']).to_numpy()\n",
    "predictive_vote = merged.loc[:,'How Voted.43'].to_numpy() * 43\n",
    "weights = np.linalg.lstsq(predictive_voting_data,predictive_vote,rcond=None)[0]\n",
    "\n",
    "#Apply weights to all voting data, just shifted 1 election up\n",
    "merged2 = merged.copy()\n",
    "merged2.drop(columns=['How Voted Sum','How Voted'],inplace=True)\n",
    "columns = merged2.columns\n",
    "columns = list(columns)\n",
    "columns.remove('VOTER_ID')\n",
    "columns.remove('PRECINCT')\n",
    "columns.remove('How Voted.44')\n",
    "\n",
    "for (i,col) in enumerate(columns):\n",
    "    merged2[col] = merged2[col] * weights[i]\n",
    "merged2['How Voted.44'] = merged2['How Voted.44'] * weights[-1]\n",
    "\n",
    "#Sum now weighted values\n",
    "merged2[\"How Voted Sum\"] = merged2.loc[:,'How Voted.1':'How Voted.44'].sum(axis=1)\n",
    "\n",
    "#make the pivot table\n",
    "table_LS = merged2.pivot_table(values = 'How Voted Sum',index = ['PRECINCT'], aggfunc='sum')\n",
    "table_LS = table_LS.reindex(table_LS.sort_values(by='How Voted Sum', ascending=False).index)"
   ]
  },
  {
   "cell_type": "markdown",
   "metadata": {},
   "source": [
    "Do Least Squares to weight the votes, but this time examining a municipal election"
   ]
  },
  {
   "cell_type": "code",
   "execution_count": 20,
   "metadata": {},
   "outputs": [],
   "source": [
    "#Election 41 was a municipal election in an off year, try using that\n",
    "predictive_voting_data2 = merged.loc[:,'How Voted':'How Voted.40'].to_numpy()\n",
    "predictive_vote2 = merged.loc[:,'How Voted.41'].to_numpy() * 40\n",
    "weights2 = np.linalg.lstsq(predictive_voting_data2,predictive_vote2,rcond=None)[0]\n",
    "\n",
    "#Apply weights to all voting data, just shifted 1 election up\n",
    "merged3 = merged.copy()\n",
    "merged3 = merged3.drop(columns=['How Voted.41','How Voted.42','How Voted.43','How Voted.44','How Voted Sum'])\n",
    "columns = merged3.columns\n",
    "columns = list(columns)\n",
    "columns.remove('VOTER_ID')\n",
    "columns.remove('PRECINCT')\n",
    "\n",
    "for (i,col) in enumerate(columns):\n",
    "    merged3[col] = merged3[col] * weights2[i]\n",
    "\n",
    "#Sum now weighted values\n",
    "merged3[\"How Voted Sum\"] = merged3.loc[:,'How Voted.1':'How Voted.40'].sum(axis=1)\n",
    "\n",
    "#make the pivot table\n",
    "table_LS2 = merged3.pivot_table(values = 'How Voted Sum',index = ['PRECINCT'], aggfunc='sum')\n",
    "table_LS2 = table_LS2.reindex(table_LS2.sort_values(by='How Voted Sum', ascending=False).index)\n",
    "table_LS2.to_csv('table3.csv')\n"
   ]
  },
  {
   "cell_type": "markdown",
   "metadata": {},
   "source": [
    "Plot weights to determine what our overall weights should look like"
   ]
  },
  {
   "cell_type": "code",
   "execution_count": 21,
   "metadata": {},
   "outputs": [
    {
     "data": {
      "image/png": "[encoded data removed]",
      "text/plain": [
       "<Figure size 432x288 with 1 Axes>"
      ]
     },
     "metadata": {
      "needs_background": "light"
     },
     "output_type": "display_data"
    }
   ],
   "source": [
    "plt.plot(weights,label = 'General Election Weights')\n",
    "plt.plot(weights2,label = 'Municipal Election Weights')\n",
    "plt.legend()\n",
    "plt.title('Plotting the Least Squares Weights')\n",
    "plt.show()"
   ]
  },
  {
   "cell_type": "markdown",
   "metadata": {},
   "source": [
    "Do linear weighting (from 1 up til 4) for everything except the primary, weight the primary as x15\n",
    "Generate CSV of precincts ranked, as well as voters ranked"
   ]
  },
  {
   "cell_type": "code",
   "execution_count": 22,
   "metadata": {},
   "outputs": [],
   "source": [
    "#Define linear weighting function\n",
    "def linear_weight(pos):\n",
    "    #Linearly weights the first 44 (0 indexed) (non primary) elections from 1 to 4\n",
    "    b = 1\n",
    "    m = (4-1)/(43-0)\n",
    "    return m*pos + b\n",
    "\n",
    "#Apply weights to all voting data\n",
    "final_data = merged.copy()\n",
    "final_data.drop(columns=['How Voted Sum'],inplace=True)\n",
    "columns = final_data.columns\n",
    "columns = list(columns)\n",
    "columns.remove('VOTER_ID')\n",
    "columns.remove('PRECINCT')\n",
    "columns.remove('How Voted.44')\n",
    "for (i,col) in enumerate(columns):\n",
    "    weight = linear_weight(i)\n",
    "    final_data[col] = final_data[col] * weight\n",
    "final_data['How Voted.44'] = final_data['How Voted.44'] * 15\n",
    "\n",
    "#Sum now weighted values\n",
    "final_data[\"Weighted Votes Sum\"] = final_data.loc[:,'How Voted':'How Voted.44'].sum(axis=1)\n",
    "\n",
    "#make the pivot table ranking precincts\n",
    "table_final = final_data.pivot_table(values = 'Weighted Votes Sum',index = ['PRECINCT'], aggfunc='sum')\n",
    "table_final.sort_values(by='Weighted Votes Sum',ascending=False,inplace=True)\n",
    "# table_final.to_csv('Precincts_ranked.csv')\n",
    "\n",
    "#Join the final ranked list of voters with the name and address info, make csv of ranked voters\n",
    "final_data = final_data[final_data['VOTER_ID']!= 0]\n",
    "merged_addresses = merged_addresses[merged_addresses['VOTER_ID']!= 0]\n",
    "final_ranking_with_addresses = pd.merge(final_data.loc[:,['VOTER_ID','Weighted Votes Sum']],merged_addresses,on = 'VOTER_ID')#,how = 'outer')\n",
    "final_ranking_with_addresses.set_index('VOTER_ID',inplace=True)\n",
    "final_ranking_with_addresses.sort_values(by='Weighted Votes Sum',ascending=False,inplace=True)\n",
    "final_ranking_with_addresses.to_csv('Voters_ranked.csv')"
   ]
  },
  {
   "cell_type": "markdown",
   "metadata": {},
   "source": [
    "Normalize Precinct rankings by land area of each precinct"
   ]
  },
  {
   "cell_type": "code",
   "execution_count": 23,
   "metadata": {},
   "outputs": [],
   "source": [
    "precincts_with_geodata = pd.merge(geo_data,table_final,on = 'PRECINCT')\n",
    "precincts_with_geodata['Weighted Votes Sum'] = precincts_with_geodata['Weighted Votes Sum'] /precincts_with_geodata['AREA']\n",
    "precincts_with_geodata = pd.DataFrame(precincts_with_geodata)\n",
    "precincts_with_geodata.drop(columns=['geometry','AREA'],inplace =True)\n",
    "precincts_with_geodata.sort_values(by='Weighted Votes Sum',ascending=False,inplace=True)\n",
    "precincts_with_geodata.set_index('PRECINCT',inplace=True)\n",
    "precincts_with_geodata.rename(columns={'Weighted Votes Sum':'Voting Density'},inplace=True)\n",
    "precincts_with_geodata.to_csv('Precincts_ranked_density.csv')"
   ]
  },
  {
   "cell_type": "markdown",
   "metadata": {},
   "source": [
    "37674 rows should be there"
   ]
  }
 ],
 "metadata": {
  "kernelspec": {
   "display_name": "Python 3",
   "language": "python",
   "name": "python3"
  },
  "language_info": {
   "codemirror_mode": {
    "name": "ipython",
    "version": 3
   },
   "file_extension": ".py",
   "mimetype": "text/x-python",
   "name": "python",
   "nbconvert_exporter": "python",
   "pygments_lexer": "ipython3",
   "version": "3.10.12"
  },
  "orig_nbformat": 4
 },
 "nbformat": 4,
 "nbformat_minor": 2
}
